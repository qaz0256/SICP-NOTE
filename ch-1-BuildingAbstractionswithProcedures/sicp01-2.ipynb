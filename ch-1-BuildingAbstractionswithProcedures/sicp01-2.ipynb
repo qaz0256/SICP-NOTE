{
 "cells": [
  {
   "cell_type": "markdown",
   "id": "eef4c234",
   "metadata": {},
   "source": [
    "**过程抽象的本质是一种功能分解**：\n",
    "- 定义过程时，关注计算的过程式描述（怎样做），使用时只关注其说明式描述（功能，做什么）\n",
    "- 一个过程总（应该）隐藏一些实现细节，使用者不需要知道它如何工作。所用过程可以是其他人开发，或由程序库提供\n",
    "- 过程抽象是控制和分解程序复杂性的一种重要手段，也是记录和重用已有开发成果的单位"
   ]
  },
  {
   "cell_type": "code",
   "execution_count": 3,
   "id": "b5e2fed7",
   "metadata": {},
   "outputs": [],
   "source": [
    "(define (mysqrt x)\n",
    "  (define (good-enough old-guess new-guess)\n",
    "    (< (abs (- new-guess old-guess)) 0.00001))\n",
    "  (define (improve guess)\n",
    "    (/ (+ guess (/ x guess)) 2))\n",
    "  (define (sqrt-iter guess x)\n",
    "    (if (good-enough guess (improve guess))\n",
    "        guess\n",
    "        (sqrt-iter (improve guess) x)))\n",
    "  (sqrt-iter 1.0 x))"
   ]
  },
  {
   "cell_type": "code",
   "execution_count": 4,
   "id": "61205811",
   "metadata": {},
   "outputs": [
    {
     "data": {
      "text/plain": [
       "3.000000001396984"
      ]
     },
     "execution_count": 4,
     "metadata": {},
     "output_type": "execute_result"
    }
   ],
   "source": [
    "(mysqrt 9.0)"
   ]
  },
  {
   "cell_type": "code",
   "execution_count": 5,
   "id": "87caa5c4",
   "metadata": {},
   "outputs": [
    {
     "data": {
      "text/plain": [
       "0.0030000276392750298"
      ]
     },
     "execution_count": 5,
     "metadata": {},
     "output_type": "execute_result"
    }
   ],
   "source": [
    "(mysqrt 0.000009)"
   ]
  },
  {
   "cell_type": "markdown",
   "id": "a45dd130",
   "metadata": {},
   "source": [
    "### 1.2.1 线性的递归和迭代"
   ]
  },
  {
   "cell_type": "markdown",
   "id": "19488421",
   "metadata": {},
   "source": [
    "阶乘计算，一种算法（递归的观点）：\n",
    "n 的阶乘 = n * （n-1）的阶乘"
   ]
  },
  {
   "cell_type": "code",
   "execution_count": 6,
   "id": "733c7346",
   "metadata": {},
   "outputs": [],
   "source": [
    "(define (f1 n)\n",
    "  (if (= n 1)\n",
    "      1\n",
    "      (* n (f1 (- n 1)))))"
   ]
  },
  {
   "cell_type": "code",
   "execution_count": 7,
   "id": "82b78269",
   "metadata": {},
   "outputs": [
    {
     "data": {
      "text/plain": [
       "24"
      ]
     },
     "execution_count": 7,
     "metadata": {},
     "output_type": "execute_result"
    }
   ],
   "source": [
    "(f1 4)"
   ]
  },
  {
   "cell_type": "code",
   "execution_count": 8,
   "id": "47c6a6b6",
   "metadata": {},
   "outputs": [
    {
     "data": {
      "text/plain": [
       "120"
      ]
     },
     "execution_count": 8,
     "metadata": {},
     "output_type": "execute_result"
    }
   ],
   "source": [
    "(f1 5)"
   ]
  },
  {
   "cell_type": "markdown",
   "id": "67085ab4",
   "metadata": {},
   "source": [
    "另一种看法：n 的阶乘是从 1 开始顺序乘各个自然数，至乘到 n\n",
    "我们要维持一个变动中的乘积 product，以及一个从 1 到 n 的计数器 counter"
   ]
  },
  {
   "cell_type": "code",
   "execution_count": 9,
   "id": "16d83dff",
   "metadata": {},
   "outputs": [],
   "source": [
    "(define (f2 n)\n",
    "  (define (f2-iter product counter)\n",
    "    (if (> counter n)\n",
    "        product\n",
    "        (f2-iter (* counter product) (+ counter 1))))\n",
    "  (f2-iter 1 1))"
   ]
  },
  {
   "cell_type": "code",
   "execution_count": 10,
   "id": "9d45ceff",
   "metadata": {},
   "outputs": [
    {
     "data": {
      "text/plain": [
       "24"
      ]
     },
     "execution_count": 10,
     "metadata": {},
     "output_type": "execute_result"
    }
   ],
   "source": [
    "(f2 4)"
   ]
  },
  {
   "cell_type": "code",
   "execution_count": 11,
   "id": "50d0dfc6",
   "metadata": {},
   "outputs": [
    {
     "data": {
      "text/plain": [
       "120"
      ]
     },
     "execution_count": 11,
     "metadata": {},
     "output_type": "execute_result"
    }
   ],
   "source": [
    "(f2 5)"
   ]
  },
  {
   "cell_type": "code",
   "execution_count": 12,
   "id": "fe2fe9f0",
   "metadata": {},
   "outputs": [
    {
     "data": {
      "text/plain": [
       "720"
      ]
     },
     "execution_count": 12,
     "metadata": {},
     "output_type": "execute_result"
    }
   ],
   "source": [
    "(f2 6)"
   ]
  },
  {
   "cell_type": "markdown",
   "id": "22b2355e",
   "metadata": {},
   "source": [
    "python 循环版"
   ]
  },
  {
   "cell_type": "code",
   "execution_count": 20,
   "id": "8c4bd946",
   "metadata": {},
   "outputs": [],
   "source": [
    "(python-exec\n",
    "\"\n",
    "def pyf2(n):\n",
    "   counter = 1\n",
    "   product = 1\n",
    "   while not (counter > n):\n",
    "       product = counter * product\n",
    "       counter = counter + 1\n",
    "   return product\n",
    "\")"
   ]
  },
  {
   "cell_type": "code",
   "execution_count": 21,
   "id": "b0e06acf",
   "metadata": {},
   "outputs": [
    {
     "data": {
      "text/plain": [
       "24"
      ]
     },
     "execution_count": 21,
     "metadata": {},
     "output_type": "execute_result"
    }
   ],
   "source": [
    "(pyf2 4)"
   ]
  },
  {
   "cell_type": "code",
   "execution_count": 22,
   "id": "13041a81",
   "metadata": {},
   "outputs": [
    {
     "data": {
      "text/plain": [
       "120"
      ]
     },
     "execution_count": 22,
     "metadata": {},
     "output_type": "execute_result"
    }
   ],
   "source": [
    "(pyf2 5)"
   ]
  },
  {
   "cell_type": "markdown",
   "id": "900b1367",
   "metadata": {},
   "source": [
    "#### 练习 1.9"
   ]
  },
  {
   "cell_type": "code",
   "execution_count": null,
   "id": "ec9aaaa7",
   "metadata": {},
   "outputs": [],
   "source": [
    "(define (+ a b)\n",
    "  (if (= a 0)\n",
    "      b\n",
    "      (inc (+ (dec a) b))))"
   ]
  },
  {
   "cell_type": "code",
   "execution_count": null,
   "id": "abedd84a",
   "metadata": {},
   "outputs": [],
   "source": [
    "(+ 4 5)\n",
    "(inc (+ 3 5))\n",
    "(inc (inc (+ 2 5)))\n",
    "(inc (inc (inc (+ 1 5))))\n",
    "(inc (inc (inc (inc (+ 0 5)))))\n",
    "(inc (inc (inc (inc 5))))\n",
    "(inc (inc (inc 6)))\n",
    "(inc (inc 7))\n",
    "(inc 8)\n",
    "9\n"
   ]
  },
  {
   "cell_type": "code",
   "execution_count": null,
   "id": "90ebc754",
   "metadata": {},
   "outputs": [],
   "source": [
    "(define (+ a b)\n",
    "  (if (= a 0)\n",
    "      b\n",
    "      (+ (dec a) (inc b))))"
   ]
  },
  {
   "cell_type": "code",
   "execution_count": null,
   "id": "3a797c92",
   "metadata": {},
   "outputs": [],
   "source": [
    "(+ 4 5)\n",
    "(+ 3 6)\n",
    "(+ 2 7)\n",
    "(+ 1 8)\n",
    "(+ 0 9)\n",
    "9"
   ]
  },
  {
   "cell_type": "markdown",
   "id": "31c3beda",
   "metadata": {},
   "source": [
    "#### 练习 1.10"
   ]
  },
  {
   "cell_type": "code",
   "execution_count": 2,
   "id": "a339cf78",
   "metadata": {},
   "outputs": [],
   "source": [
    "(define (A x y)\n",
    "  (cond ((= y 0) 0)\n",
    "        ((= x 0) (* 2 y))\n",
    "        ((= y 1) 2)\n",
    "        (else (A (- x 1) (A x (- y 1))))))"
   ]
  },
  {
   "cell_type": "code",
   "execution_count": 3,
   "id": "f6b4cb69",
   "metadata": {},
   "outputs": [
    {
     "data": {
      "text/plain": [
       "1024"
      ]
     },
     "execution_count": 3,
     "metadata": {},
     "output_type": "execute_result"
    }
   ],
   "source": [
    "(A 1 10)"
   ]
  },
  {
   "cell_type": "code",
   "execution_count": 4,
   "id": "d07df784",
   "metadata": {},
   "outputs": [
    {
     "data": {
      "text/plain": [
       "65536"
      ]
     },
     "execution_count": 4,
     "metadata": {},
     "output_type": "execute_result"
    }
   ],
   "source": [
    "(A 2 4)"
   ]
  },
  {
   "cell_type": "code",
   "execution_count": 5,
   "id": "8e47db0e",
   "metadata": {},
   "outputs": [
    {
     "data": {
      "text/plain": [
       "65536"
      ]
     },
     "execution_count": 5,
     "metadata": {},
     "output_type": "execute_result"
    }
   ],
   "source": [
    "(A 3 3)"
   ]
  },
  {
   "cell_type": "code",
   "execution_count": 6,
   "id": "a6f3b03a",
   "metadata": {},
   "outputs": [],
   "source": [
    "(define (f n)\n",
    "  (A 0 n))"
   ]
  },
  {
   "cell_type": "code",
   "execution_count": 7,
   "id": "25ddeb8c",
   "metadata": {},
   "outputs": [
    {
     "data": {
      "text/plain": [
       "8"
      ]
     },
     "execution_count": 7,
     "metadata": {},
     "output_type": "execute_result"
    }
   ],
   "source": [
    "(f 4)"
   ]
  },
  {
   "cell_type": "code",
   "execution_count": 8,
   "id": "89382333",
   "metadata": {},
   "outputs": [
    {
     "data": {
      "text/plain": [
       "18"
      ]
     },
     "execution_count": 8,
     "metadata": {},
     "output_type": "execute_result"
    }
   ],
   "source": [
    "(f 9)"
   ]
  },
  {
   "cell_type": "code",
   "execution_count": 9,
   "id": "27d31a2a",
   "metadata": {},
   "outputs": [],
   "source": [
    "(define (g n)\n",
    "  (A 1 n))"
   ]
  },
  {
   "cell_type": "code",
   "execution_count": 10,
   "id": "804ef620",
   "metadata": {},
   "outputs": [],
   "source": [
    "(define (h n)\n",
    "  (A 2 n))"
   ]
  },
  {
   "cell_type": "code",
   "execution_count": 11,
   "id": "d8c599d3",
   "metadata": {},
   "outputs": [
    {
     "data": {
      "text/plain": [
       "16"
      ]
     },
     "execution_count": 11,
     "metadata": {},
     "output_type": "execute_result"
    }
   ],
   "source": [
    "(g 4)"
   ]
  },
  {
   "cell_type": "code",
   "execution_count": 12,
   "id": "2f30662a",
   "metadata": {},
   "outputs": [
    {
     "data": {
      "text/plain": [
       "65536"
      ]
     },
     "execution_count": 12,
     "metadata": {},
     "output_type": "execute_result"
    }
   ],
   "source": [
    "(h 4)"
   ]
  },
  {
   "cell_type": "markdown",
   "id": "979e04e6",
   "metadata": {},
   "source": [
    "f(n) = A(0,n) = 2n   \n",
    "g(n) = A(1,n) = A(0,A(1,(n-1))) = A^(n-1)(0,2) = 2 * 2^(n-1) = 2^n  \n",
    "h(n) = A(2,n) = A(1,A(2,(n-1))) = A^(n-1)(1,A(2,1)) = A^(n-1)(1,2)"
   ]
  },
  {
   "cell_type": "markdown",
   "id": "2a804f81",
   "metadata": {},
   "source": [
    "$$\n",
    "\\begin{align}\n",
    "g(n) &= A(1,n) = A(0,A(1,(n-1)))\\\\\n",
    "     &= f(A(1,(n-1)) = f(f(A(1,(n-2))))\\\\\n",
    "     &= f^{(n-1)}(A(1,1)) = f^{(n-1)}(2)\\\\\n",
    "\\end{align}\n",
    "$$"
   ]
  },
  {
   "cell_type": "markdown",
   "id": "196eed1f",
   "metadata": {},
   "source": [
    "$$\n",
    "h(n) = g^{(n-1)}(2)\n",
    "$$"
   ]
  },
  {
   "cell_type": "code",
   "execution_count": 13,
   "id": "8f7b594a",
   "metadata": {},
   "outputs": [
    {
     "data": {
      "text/plain": [
       "16"
      ]
     },
     "execution_count": 13,
     "metadata": {},
     "output_type": "execute_result"
    }
   ],
   "source": [
    "(h 3)"
   ]
  },
  {
   "cell_type": "code",
   "execution_count": null,
   "id": "1c097ffe",
   "metadata": {},
   "outputs": [],
   "source": []
  }
 ],
 "metadata": {
  "kernelspec": {
   "display_name": "Calysto Scheme 3",
   "language": "scheme",
   "name": "calysto_scheme"
  },
  "language_info": {
   "codemirror_mode": {
    "name": "scheme"
   },
   "mimetype": "text/x-scheme",
   "name": "scheme",
   "pygments_lexer": "scheme"
  }
 },
 "nbformat": 4,
 "nbformat_minor": 5
}
