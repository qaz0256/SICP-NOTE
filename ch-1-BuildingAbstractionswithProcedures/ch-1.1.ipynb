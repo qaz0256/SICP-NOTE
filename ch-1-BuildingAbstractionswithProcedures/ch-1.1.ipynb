{
 "cells": [
  {
   "cell_type": "markdown",
   "id": "3a4e2d49",
   "metadata": {},
   "source": [
    "# 1.1 程序设计的基本元素"
   ]
  },
  {
   "cell_type": "markdown",
   "id": "d6ca5eac",
   "metadata": {},
   "source": [
    "- **基本表达式形式**，是构造各种程序的基础\n",
    "- **组合机制**，用于从较简单的表达式构造更复杂的表达式\n",
    "- **抽象机制**，为复杂的结构命名，使人可以通过简单方式使用"
   ]
  },
  {
   "cell_type": "markdown",
   "id": "564d723d",
   "metadata": {},
   "source": [
    "Scheme 是交互式语言，其解释器运行时反复执行一个“读入-求值-打印循环”（Read-Evaluate-Print Loop，REPL）。每次循环：\n",
    "- 读入一个完整的输入表达式（即，“一个程序”）\n",
    "- 对表达式求值（计算），得到一个值（还可能有其他效果）\n",
    "- 输出求得的值（也是一个表达式）"
   ]
  },
  {
   "cell_type": "code",
   "execution_count": 2,
   "id": "f898635f",
   "metadata": {},
   "outputs": [
    {
     "data": {
      "text/plain": [
       "486"
      ]
     },
     "execution_count": 2,
     "metadata": {},
     "output_type": "execute_result"
    }
   ],
   "source": [
    "486"
   ]
  },
  {
   "cell_type": "code",
   "execution_count": 1,
   "id": "1d060a76",
   "metadata": {},
   "outputs": [
    {
     "data": {
      "text/plain": [
       "486"
      ]
     },
     "execution_count": 1,
     "metadata": {},
     "output_type": "execute_result"
    }
   ],
   "source": [
    "(+ 137 349)"
   ]
  },
  {
   "cell_type": "code",
   "execution_count": 3,
   "id": "574caa02",
   "metadata": {},
   "outputs": [
    {
     "data": {
      "text/plain": [
       "24"
      ]
     },
     "execution_count": 3,
     "metadata": {},
     "output_type": "execute_result"
    }
   ],
   "source": [
    "(* 1 2 3 4)"
   ]
  },
  {
   "cell_type": "markdown",
   "id": "430cd645",
   "metadata": {},
   "source": [
    "表达式的形式：**带括号的前缀形式**:\n",
    "- 括号里第一个元素表示操作（运算），后面是参数（运算对象）\n",
    "- 运算符和参数之间、不同参数之间用空格分隔\n",
    "- 有些运算符允许任意多个参数\n",
    "- 表达式可以任意嵌套\n",
    "- 可以写任意复杂的表达式（组合式）"
   ]
  },
  {
   "cell_type": "code",
   "execution_count": 4,
   "id": "57182356",
   "metadata": {},
   "outputs": [],
   "source": [
    "(define pi 3.14159)"
   ]
  },
  {
   "cell_type": "code",
   "execution_count": 5,
   "id": "c643f46a",
   "metadata": {},
   "outputs": [],
   "source": [
    "(define r 4)"
   ]
  },
  {
   "cell_type": "code",
   "execution_count": 8,
   "id": "bb30fa8f",
   "metadata": {},
   "outputs": [],
   "source": [
    "(define S (* pi r r))"
   ]
  },
  {
   "cell_type": "code",
   "execution_count": 9,
   "id": "88867007",
   "metadata": {},
   "outputs": [
    {
     "data": {
      "text/plain": [
       "50.26544"
      ]
     },
     "execution_count": 9,
     "metadata": {},
     "output_type": "execute_result"
    }
   ],
   "source": [
    "S"
   ]
  },
  {
   "cell_type": "markdown",
   "id": "0c16b582",
   "metadata": {},
   "source": [
    "### 1.1.5 过程应用的代换模型"
   ]
  },
  {
   "cell_type": "markdown",
   "id": "7762520b",
   "metadata": {},
   "source": [
    "组合式和复合过程确定的计算过程是（代换模型）：\n",
    "1. 求出各参数表达式（子表达式）的值\n",
    "2. 找到要调用的过程的定义（根据第一个子表达式的求值结果）\n",
    "3. 用求出的实际参数代换过程体里的形式参数\n",
    "4. 求值过程体\n",
    "\n",
    "注意：\n",
    "代换模型只是为了帮助直观理解过程应用的行为，并没有反映解释器的实际工作过程"
   ]
  },
  {
   "cell_type": "markdown",
   "id": "571262f3",
   "metadata": {},
   "source": [
    "应用序：解释器先求值子表达式（运算符和各运算对象），而后把得到的运算应用于运算对象（实际参数）  \n",
    "例：  \n",
    "(f 5) ;用原过程体 (sum-of-squares (+ a 1) (* a 2))，代换得到:  \n",
    "(sum-of-squares (+ 5 1) (* 5 2)) ;求值实参并代入过程体，得到：  \n",
    "(+ (square 6) (square 10)) ;求值实参并代入过程体，得到：  \n",
    "(+ (* 6 6) (* 10 10))   \n",
    "(+ 36 100)   \n",
    "136  \n"
   ]
  },
  {
   "cell_type": "markdown",
   "id": "8a5b6fcf",
   "metadata": {},
   "source": [
    "正则序：是先不求值运算对象，推迟到需要时再求值。  \n",
    "例：  \n",
    "(sum-of-squares (+ 5 1) (* 5 2))  \n",
    "(+ (square (+ 5 1)) (square (* 5 2)) )  \n",
    "(+ (* (+ 5 1) (+ 5 1)) (* (* 5 2) (* 5 2)))  \n",
    "先展开，后归约  \n",
    "(+ (* 6 6) (* 10 10))  \n",
    "(+ 36 100)  \n",
    "136  "
   ]
  },
  {
   "cell_type": "markdown",
   "id": "272dde3f",
   "metadata": {},
   "source": [
    "#### 练习 1.1"
   ]
  },
  {
   "cell_type": "code",
   "execution_count": 10,
   "id": "16546a45",
   "metadata": {},
   "outputs": [
    {
     "data": {
      "text/plain": [
       "10"
      ]
     },
     "execution_count": 10,
     "metadata": {},
     "output_type": "execute_result"
    }
   ],
   "source": [
    "10"
   ]
  },
  {
   "cell_type": "code",
   "execution_count": 11,
   "id": "2c0f73a6",
   "metadata": {},
   "outputs": [
    {
     "data": {
      "text/plain": [
       "12"
      ]
     },
     "execution_count": 11,
     "metadata": {},
     "output_type": "execute_result"
    }
   ],
   "source": [
    "(+ 5 3 4)"
   ]
  },
  {
   "cell_type": "code",
   "execution_count": 12,
   "id": "a56295fd",
   "metadata": {},
   "outputs": [
    {
     "data": {
      "text/plain": [
       "8"
      ]
     },
     "execution_count": 12,
     "metadata": {},
     "output_type": "execute_result"
    }
   ],
   "source": [
    "(- 9 1)"
   ]
  },
  {
   "cell_type": "code",
   "execution_count": 13,
   "id": "8dc67f02",
   "metadata": {},
   "outputs": [
    {
     "data": {
      "text/plain": [
       "3"
      ]
     },
     "execution_count": 13,
     "metadata": {},
     "output_type": "execute_result"
    }
   ],
   "source": [
    "(/ 6 2)"
   ]
  },
  {
   "cell_type": "code",
   "execution_count": 14,
   "id": "bd433c37",
   "metadata": {},
   "outputs": [],
   "source": [
    "(define a 3)"
   ]
  },
  {
   "cell_type": "code",
   "execution_count": 15,
   "id": "21dfa1bc",
   "metadata": {},
   "outputs": [],
   "source": [
    "(define b (+ a 1))"
   ]
  },
  {
   "cell_type": "code",
   "execution_count": 16,
   "id": "7a6b6a48",
   "metadata": {},
   "outputs": [
    {
     "data": {
      "text/plain": [
       "19"
      ]
     },
     "execution_count": 16,
     "metadata": {},
     "output_type": "execute_result"
    }
   ],
   "source": [
    "(+ a b (* a b))"
   ]
  },
  {
   "cell_type": "code",
   "execution_count": 17,
   "id": "75478bd2",
   "metadata": {},
   "outputs": [
    {
     "data": {
      "text/plain": [
       "#f"
      ]
     },
     "execution_count": 17,
     "metadata": {},
     "output_type": "execute_result"
    }
   ],
   "source": [
    "(= a b)"
   ]
  },
  {
   "cell_type": "code",
   "execution_count": 19,
   "id": "21a7edf1",
   "metadata": {},
   "outputs": [
    {
     "data": {
      "text/plain": [
       "4"
      ]
     },
     "execution_count": 19,
     "metadata": {},
     "output_type": "execute_result"
    }
   ],
   "source": [
    "(if (and (> b a) (< b (* a b)))\n",
    "    b\n",
    "    a)"
   ]
  },
  {
   "cell_type": "code",
   "execution_count": 20,
   "id": "9673f882",
   "metadata": {},
   "outputs": [
    {
     "data": {
      "text/plain": [
       "16"
      ]
     },
     "execution_count": 20,
     "metadata": {},
     "output_type": "execute_result"
    }
   ],
   "source": [
    "(cond ((= a 4) b)\n",
    "      ((= b 4) (+ 6 7 a))\n",
    "      (else 25))"
   ]
  },
  {
   "cell_type": "code",
   "execution_count": 21,
   "id": "72e3b917",
   "metadata": {},
   "outputs": [
    {
     "data": {
      "text/plain": [
       "5"
      ]
     },
     "execution_count": 21,
     "metadata": {},
     "output_type": "execute_result"
    }
   ],
   "source": [
    "(+ 2 (if (> b a) a b))"
   ]
  },
  {
   "cell_type": "code",
   "execution_count": 22,
   "id": "b4a5a84b",
   "metadata": {},
   "outputs": [
    {
     "data": {
      "text/plain": [
       "16"
      ]
     },
     "execution_count": 22,
     "metadata": {},
     "output_type": "execute_result"
    }
   ],
   "source": [
    "(* (cond ((> a b) a)\n",
    "         ((< a b) b)\n",
    "         (else -1))\n",
    "   (+ a 1))"
   ]
  },
  {
   "cell_type": "markdown",
   "id": "90820ada",
   "metadata": {},
   "source": [
    "#### 练习 1.2 "
   ]
  },
  {
   "cell_type": "code",
   "execution_count": 23,
   "id": "f7daa058",
   "metadata": {},
   "outputs": [
    {
     "data": {
      "text/plain": [
       "-37/150"
      ]
     },
     "execution_count": 23,
     "metadata": {},
     "output_type": "execute_result"
    }
   ],
   "source": [
    "(/ (+ 5 4 (- 2 (- 3 (+ 6 (/ 4 5)))))\n",
    "   (* 3 (- 6 2) (- 2 7)))"
   ]
  },
  {
   "cell_type": "markdown",
   "id": "37ab0e33",
   "metadata": {},
   "source": [
    "#### 练习 1.3"
   ]
  },
  {
   "cell_type": "code",
   "execution_count": 25,
   "id": "153c7790",
   "metadata": {},
   "outputs": [],
   "source": [
    "(define (sum-two-largest x y z)\n",
    "  (cond ((= x (min x y z)) (+ y z))\n",
    "        ((= y (min x y z)) (+ x z))\n",
    "        (else (+ x y))))"
   ]
  },
  {
   "cell_type": "code",
   "execution_count": 26,
   "id": "142ee3ac",
   "metadata": {},
   "outputs": [
    {
     "data": {
      "text/plain": [
       "5"
      ]
     },
     "execution_count": 26,
     "metadata": {},
     "output_type": "execute_result"
    }
   ],
   "source": [
    "(sum-two-largest 1 2 3)"
   ]
  },
  {
   "cell_type": "code",
   "execution_count": 27,
   "id": "1d5a8788",
   "metadata": {},
   "outputs": [
    {
     "data": {
      "text/plain": [
       "-3"
      ]
     },
     "execution_count": 27,
     "metadata": {},
     "output_type": "execute_result"
    }
   ],
   "source": [
    "(sum-two-largest -1 -2 -3)"
   ]
  },
  {
   "cell_type": "code",
   "execution_count": 28,
   "id": "c1c0616c",
   "metadata": {},
   "outputs": [
    {
     "data": {
      "text/plain": [
       "-1"
      ]
     },
     "execution_count": 28,
     "metadata": {},
     "output_type": "execute_result"
    }
   ],
   "source": [
    "(sum-two-largest 1 -2 -3)"
   ]
  },
  {
   "cell_type": "code",
   "execution_count": 29,
   "id": "e7942b6a",
   "metadata": {},
   "outputs": [
    {
     "data": {
      "text/plain": [
       "2"
      ]
     },
     "execution_count": 29,
     "metadata": {},
     "output_type": "execute_result"
    }
   ],
   "source": [
    "(sum-two-largest 1 1 1)"
   ]
  },
  {
   "cell_type": "code",
   "execution_count": 30,
   "id": "2a4d5261",
   "metadata": {},
   "outputs": [
    {
     "data": {
      "text/plain": [
       "3"
      ]
     },
     "execution_count": 30,
     "metadata": {},
     "output_type": "execute_result"
    }
   ],
   "source": [
    "(sum-two-largest 1 1 2)"
   ]
  },
  {
   "cell_type": "code",
   "execution_count": 31,
   "id": "7f640e48",
   "metadata": {},
   "outputs": [
    {
     "data": {
      "text/plain": [
       "4"
      ]
     },
     "execution_count": 31,
     "metadata": {},
     "output_type": "execute_result"
    }
   ],
   "source": [
    "(sum-two-largest 2 1 2)"
   ]
  },
  {
   "cell_type": "markdown",
   "id": "5e265a6a",
   "metadata": {},
   "source": [
    "#### 练习 1.4"
   ]
  },
  {
   "cell_type": "code",
   "execution_count": 32,
   "id": "b68e9034",
   "metadata": {},
   "outputs": [],
   "source": [
    "(define (a-plus-abs-b a b)\n",
    "  ((if (> b 0) + -) a b))"
   ]
  },
  {
   "cell_type": "code",
   "execution_count": 33,
   "id": "9fe1ae74",
   "metadata": {},
   "outputs": [
    {
     "data": {
      "text/plain": [
       "2"
      ]
     },
     "execution_count": 33,
     "metadata": {},
     "output_type": "execute_result"
    }
   ],
   "source": [
    "(a-plus-abs-b 1 1)"
   ]
  },
  {
   "cell_type": "code",
   "execution_count": 34,
   "id": "73681c88",
   "metadata": {},
   "outputs": [
    {
     "data": {
      "text/plain": [
       "1"
      ]
     },
     "execution_count": 34,
     "metadata": {},
     "output_type": "execute_result"
    }
   ],
   "source": [
    "(a-plus-abs-b 1 0)"
   ]
  },
  {
   "cell_type": "code",
   "execution_count": 35,
   "id": "7f83df0a",
   "metadata": {},
   "outputs": [
    {
     "data": {
      "text/plain": [
       "3"
      ]
     },
     "execution_count": 35,
     "metadata": {},
     "output_type": "execute_result"
    }
   ],
   "source": [
    "(a-plus-abs-b 2 -1)"
   ]
  },
  {
   "cell_type": "markdown",
   "id": "760026ef",
   "metadata": {},
   "source": [
    "#### 练习 1.5\n",
    "(define (p) (p))  \n",
    "(define (test x y)\n",
    "  (if (= x 0)\n",
    "     0\n",
    "     y))  \n",
    "(test 0 (p))"
   ]
  },
  {
   "cell_type": "markdown",
   "id": "3d402dbb",
   "metadata": {},
   "source": [
    "在应用序中，所有被传入的实际参数都会立即被求值，因此，在使用应用序的解释器里执行 (test 0 (p)) 时，实际参数 0 和 (p) 都会被求值，而对 (p) 的求值将使解释器进入无限循环，因此，如果一个解释器在运行 Ben 的测试时陷入停滞，那么这个解释器使用的是应用序求值模式。\n",
    "\n",
    "另一方面，在正则序中，传入的实际参数只有在有需要时才会被求值，因此，在使用正则序的解释器里运行 (test 0 (p)) 时， 0 和 (p) 都不会立即被求值，当解释进行到 if 语句时，形式参数 x 的实际参数(也即是 0)会被求值(求值结果也是为 0 )，然后和另一个 0 进行对比((= x 0))，因为对比的值为真(#t),所以 if 返回 0 作为值表达式的值，而这个值又作为 test 函数的值被返回。\n",
    "\n",
    "因为在正则序求值中，调用 (p) 从始到终都没有被执行，所以也就不会产生无限循环，因此，如果一个解释器在运行 Ben 的测试时顺利返回 0 ，那么这个解释器使用的是正则序求值模式。"
   ]
  },
  {
   "cell_type": "markdown",
   "id": "1638ae78",
   "metadata": {},
   "source": [
    "### 1.1.7 实例：采用牛顿法求平方根"
   ]
  },
  {
   "cell_type": "markdown",
   "id": "da561f1a",
   "metadata": {},
   "source": [
    "用 Scheme 实现：\n",
    "- 从要求开平方的数和初始猜测值 1 开始\n",
    "- 如果猜测值足够好就结束\n",
    "- 否则就改进猜测值并重复这一过程"
   ]
  },
  {
   "cell_type": "code",
   "execution_count": 37,
   "id": "757d841f",
   "metadata": {},
   "outputs": [],
   "source": [
    "(python-exec \n",
    "\"\n",
    "def mypyfunc(a, b):\n",
    "    return a * b\n",
    "\")"
   ]
  },
  {
   "cell_type": "code",
   "execution_count": 38,
   "id": "a449e020",
   "metadata": {},
   "outputs": [
    {
     "data": {
      "text/plain": [
       "15"
      ]
     },
     "execution_count": 38,
     "metadata": {},
     "output_type": "execute_result"
    }
   ],
   "source": [
    "(mypyfunc 3 5)"
   ]
  },
  {
   "cell_type": "code",
   "execution_count": 39,
   "id": "e328aca0",
   "metadata": {},
   "outputs": [],
   "source": [
    "(define (sqrt-iter guess x)\n",
    "  (if (good-enough guess x)\n",
    "      guess\n",
    "      (sqrt-iter (improve guess x) x)))"
   ]
  },
  {
   "cell_type": "code",
   "execution_count": 40,
   "id": "47408402",
   "metadata": {},
   "outputs": [],
   "source": [
    "(define (good-enough guess x)\n",
    "  (< (abs (- (square guess) x)) 0.001))\n"
   ]
  },
  {
   "cell_type": "code",
   "execution_count": 41,
   "id": "0bcc3db3",
   "metadata": {},
   "outputs": [],
   "source": [
    "(define (good-enough guess x)\n",
    "  (< (abs (- (square guess) x)) 0.001))\n"
   ]
  },
  {
   "cell_type": "code",
   "execution_count": 42,
   "id": "f053fd49",
   "metadata": {},
   "outputs": [],
   "source": [
    "(define (improve guess x)\n",
    "  (average guess (/ x guess)))"
   ]
  },
  {
   "cell_type": "code",
   "execution_count": 43,
   "id": "4938c879",
   "metadata": {},
   "outputs": [],
   "source": [
    "(define (average x y)\n",
    "  (/ (+ x y) 2))"
   ]
  },
  {
   "cell_type": "code",
   "execution_count": 44,
   "id": "0704e842",
   "metadata": {},
   "outputs": [],
   "source": [
    "(define (mysqrt x)\n",
    "  (sqrt-iter 1.0 x))\n",
    "\n",
    "(define (square x)\n",
    "  (* x x))"
   ]
  },
  {
   "cell_type": "code",
   "execution_count": 45,
   "id": "3a4b5f61",
   "metadata": {},
   "outputs": [
    {
     "data": {
      "text/plain": [
       "3.00009155413138"
      ]
     },
     "execution_count": 45,
     "metadata": {},
     "output_type": "execute_result"
    }
   ],
   "source": [
    "(mysqrt 9)"
   ]
  },
  {
   "cell_type": "code",
   "execution_count": 46,
   "id": "f3a0554b",
   "metadata": {},
   "outputs": [
    {
     "data": {
      "text/plain": [
       "1.4142156862745097"
      ]
     },
     "execution_count": 46,
     "metadata": {},
     "output_type": "execute_result"
    }
   ],
   "source": [
    "(mysqrt 2)"
   ]
  },
  {
   "cell_type": "markdown",
   "id": "7c107e13",
   "metadata": {},
   "source": [
    "#### 练习 1.6\n",
    "用cond 替代 if"
   ]
  },
  {
   "cell_type": "code",
   "execution_count": 47,
   "id": "3814d240",
   "metadata": {},
   "outputs": [],
   "source": [
    "(define (new-if predicate then-clause else-clause)\n",
    "  (cond (predicate then-clause)\n",
    "        (else-clause)))"
   ]
  },
  {
   "cell_type": "code",
   "execution_count": 48,
   "id": "95fa3092",
   "metadata": {},
   "outputs": [
    {
     "data": {
      "text/plain": [
       "1"
      ]
     },
     "execution_count": 48,
     "metadata": {},
     "output_type": "execute_result"
    }
   ],
   "source": [
    "(new-if (> 2 3) 0 1)"
   ]
  },
  {
   "cell_type": "code",
   "execution_count": 49,
   "id": "0b5bcc6d",
   "metadata": {},
   "outputs": [],
   "source": [
    "(define (new-sqrt-iter guess x)\n",
    "  (new-if (good-enough guess x)\n",
    "          guess\n",
    "          (new-sqrt-iter (improve guess x) x)))"
   ]
  },
  {
   "cell_type": "code",
   "execution_count": 50,
   "id": "58813b73",
   "metadata": {},
   "outputs": [],
   "source": [
    "(define (new-sqrt x)\n",
    "  (new-sqrt-iter 1.0 x))"
   ]
  },
  {
   "cell_type": "code",
   "execution_count": null,
   "id": "4a07e7a8",
   "metadata": {
    "vscode": {
     "languageId": "plaintext"
    }
   },
   "outputs": [],
   "source": [
    "(new-sqrt 9)"
   ]
  },
  {
   "cell_type": "markdown",
   "id": "e8af5afe",
   "metadata": {},
   "source": [
    "问题出在 new-sqrt-iter 函数，如果使用 trace 来跟踪它的调用过程的话，就会发现它执行了大量的递归调用，这些调用数量非常庞大"
   ]
  },
  {
   "cell_type": "markdown",
   "id": "3d1ae309",
   "metadata": {},
   "source": [
    "根据书本 12 页所说， if 语句是一种**特殊形式(special form)**，当它的 predicate 部分为真时， then-clause 分支会被求值，否则的话， else-clause 分支被求值，两个 clause 只有一个会被求值。\n",
    "\n",
    "而另一方面，新定义的 new-if 只是一个普通函数，它没有 if 所具有的特殊形式，根据解释器所使用的应用序求值规则，每个函数的实际参数在传入的时候都会被求值，因此，当使用 new-if 函数时，无论 predicate 是真还是假， then-clause 和 else-clause 两个分支都会被求值。\n",
    "\n",
    "可以用一个很简单的实验验证 if 和 new-if 之间的差别，如果使用 if 的话，那么以下的代码只会打印 good :"
   ]
  },
  {
   "cell_type": "code",
   "execution_count": 52,
   "id": "bf9ff970",
   "metadata": {},
   "outputs": [
    {
     "name": "stdout",
     "output_type": "stream",
     "text": [
      "good"
     ]
    }
   ],
   "source": [
    "(if #t (display \"good\") (display \"bad\"))"
   ]
  },
  {
   "cell_type": "code",
   "execution_count": 53,
   "id": "eb98726c",
   "metadata": {},
   "outputs": [
    {
     "name": "stdout",
     "output_type": "stream",
     "text": [
      "goodbad"
     ]
    }
   ],
   "source": [
    "(new-if #t (display \"good\") (display \"bad\"))"
   ]
  },
  {
   "cell_type": "markdown",
   "id": "d57bab00",
   "metadata": {},
   "source": [
    "#### 练习 1.7"
   ]
  },
  {
   "cell_type": "markdown",
   "id": "28bc84fb",
   "metadata": {},
   "source": [
    "对于特别小的数，比如 0.00009 ，书本给出的 sqrt 并不能计算出正确的答案； 而对于特别大的数，因为 mit-scheme 实现的小数精度不足以表示两个大数之间的差，所以 sqrt 会陷入死循环而无法得出正确结果。\n",
    "\n",
    "要避免这一错误，我们按照练习所说，对 good-enough? 进行修改：不再检测猜测值 guess 的平方与 x 之间的差，而是检测新旧两次猜测值之间的比率，当比率变化非常小时，程序就停止 improve 。"
   ]
  },
  {
   "cell_type": "code",
   "execution_count": 54,
   "id": "2f32e55a",
   "metadata": {},
   "outputs": [],
   "source": [
    "(define (new-good-enough new-guess old-guess)\n",
    "  (< (abs (- new-guess old-guess)) 0.001))"
   ]
  },
  {
   "cell_type": "code",
   "execution_count": 55,
   "id": "560d693c",
   "metadata": {},
   "outputs": [],
   "source": [
    "(define (new2-sqrt-iter guess x)\n",
    "  (if (new-good-enough (improve guess x) guess)\n",
    "      (improve guess x)\n",
    "      (new2-sqrt-iter (improve guess x) x)))"
   ]
  },
  {
   "cell_type": "code",
   "execution_count": 56,
   "id": "72866857",
   "metadata": {},
   "outputs": [],
   "source": [
    "(define (new2-sqrt x )\n",
    "  (new2-sqrt-iter 1.0 x))"
   ]
  },
  {
   "cell_type": "code",
   "execution_count": 57,
   "id": "7c5118ad",
   "metadata": {},
   "outputs": [
    {
     "data": {
      "text/plain": [
       "1.7320508100147274"
      ]
     },
     "execution_count": 57,
     "metadata": {},
     "output_type": "execute_result"
    }
   ],
   "source": [
    "(new2-sqrt 3)"
   ]
  },
  {
   "cell_type": "code",
   "execution_count": 58,
   "id": "50f0286b",
   "metadata": {},
   "outputs": [
    {
     "data": {
      "text/plain": [
       "0.009487978730289174"
      ]
     },
     "execution_count": 58,
     "metadata": {},
     "output_type": "execute_result"
    }
   ],
   "source": [
    "(new2-sqrt 0.000009)"
   ]
  },
  {
   "cell_type": "code",
   "execution_count": 59,
   "id": "e7069b1d",
   "metadata": {},
   "outputs": [
    {
     "data": {
      "text/plain": [
       "9.486832980505138e+41"
      ]
     },
     "execution_count": 59,
     "metadata": {},
     "output_type": "execute_result"
    }
   ],
   "source": [
    " (new2-sqrt 900000000000000000000000000000000000000000000000000000000000000000000000000000000000)"
   ]
  },
  {
   "cell_type": "code",
   "execution_count": 60,
   "id": "ccaec27a",
   "metadata": {},
   "outputs": [
    {
     "data": {
      "text/plain": [
       "0.0012660223645532276"
      ]
     },
     "execution_count": 60,
     "metadata": {},
     "output_type": "execute_result"
    }
   ],
   "source": [
    "(new2-sqrt 0.0000009)"
   ]
  },
  {
   "cell_type": "code",
   "execution_count": 61,
   "id": "f14c2a08",
   "metadata": {},
   "outputs": [],
   "source": [
    "(define (new-good-enough new-guess old-guess)\n",
    "  (< (abs (- new-guess old-guess)) 0.00001))"
   ]
  },
  {
   "cell_type": "code",
   "execution_count": 63,
   "id": "d4b44234",
   "metadata": {},
   "outputs": [
    {
     "data": {
      "text/plain": [
       "0.0030000000001273205"
      ]
     },
     "execution_count": 63,
     "metadata": {},
     "output_type": "execute_result"
    }
   ],
   "source": [
    "(new2-sqrt 0.000009)"
   ]
  },
  {
   "cell_type": "code",
   "execution_count": null,
   "id": "7924c045",
   "metadata": {},
   "outputs": [],
   "source": []
  }
 ],
 "metadata": {
  "kernelspec": {
   "display_name": "Calysto Scheme 3",
   "language": "scheme",
   "name": "calysto_scheme"
  },
  "language_info": {
   "codemirror_mode": {
    "name": "scheme"
   },
   "mimetype": "text/x-scheme",
   "name": "scheme",
   "pygments_lexer": "scheme"
  }
 },
 "nbformat": 4,
 "nbformat_minor": 5
}
